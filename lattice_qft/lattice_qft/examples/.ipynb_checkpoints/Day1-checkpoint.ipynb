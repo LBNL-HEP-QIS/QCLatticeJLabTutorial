{
 "cells": [
  {
   "cell_type": "code",
   "execution_count": 52,
   "id": "d8f76957",
   "metadata": {},
   "outputs": [],
   "source": [
    "import numpy as np\n",
    "import matplotlib.pyplot as plt\n",
    "\n",
    "import qiskit\n",
    "from qiskit import Aer, execute\n",
    "from qiskit import QuantumCircuit, QuantumRegister, ClassicalRegister\n",
    "\n",
    "from scipy.stats.distributions import norm"
   ]
  },
  {
   "cell_type": "code",
   "execution_count": 2,
   "id": "38aafea0",
   "metadata": {},
   "outputs": [
    {
     "data": {
      "text/plain": [
       "'0.20.2'"
      ]
     },
     "execution_count": 2,
     "metadata": {},
     "output_type": "execute_result"
    }
   ],
   "source": [
    "qiskit.__version__"
   ]
  },
  {
   "cell_type": "markdown",
   "id": "c9460904",
   "metadata": {},
   "source": [
    "## State preparation"
   ]
  },
  {
   "cell_type": "code",
   "execution_count": 126,
   "id": "459193b0",
   "metadata": {},
   "outputs": [],
   "source": [
    "mu = 0\n",
    "sigma = 1\n",
    "num_target_qubits = 3\n",
    "low = -5\n",
    "high = 5"
   ]
  },
  {
   "cell_type": "code",
   "execution_count": 129,
   "id": "1e05b177",
   "metadata": {},
   "outputs": [],
   "source": [
    "nL = 1 # Number of lattice sites\n",
    "nQ = 3 # Number of qubits per site\n",
    "dx = 1 # length of one lattice edge"
   ]
  },
  {
   "cell_type": "code",
   "execution_count": 141,
   "id": "720082e0",
   "metadata": {},
   "outputs": [],
   "source": [
    "simulator_state = Aer.get_backend('statevector_simulator')"
   ]
  },
  {
   "cell_type": "code",
   "execution_count": 142,
   "id": "18ab3bf4",
   "metadata": {},
   "outputs": [],
   "source": [
    "qr = QuantumRegister(nQ * nL)\n",
    "cr = ClassicalRegister(nQ * nL)\n",
    "Gaussian_state = QuantumCircuit(qr,cr) "
   ]
  },
  {
   "cell_type": "code",
   "execution_count": 148,
   "id": "4354ede5",
   "metadata": {},
   "outputs": [
    {
     "data": {
      "text/plain": [
       "<qiskit.circuit.instructionset.InstructionSet at 0x7fc682ff65c0>"
      ]
     },
     "execution_count": 148,
     "metadata": {},
     "output_type": "execute_result"
    }
   ],
   "source": [
    "trunc_dis_gaus = np.array([norm.pdf(x, mu, sigma) for x in np.linspace(low, high, 2 ** num_target_qubits)])\n",
    "Gaussian_state.initialize((trunc_dis_gaus/sum(trunc_dis_gaus))**0.5)"
   ]
  },
  {
   "cell_type": "code",
   "execution_count": 158,
   "id": "e666dc93",
   "metadata": {},
   "outputs": [],
   "source": [
    "result = execute(Gaussian_state, simulator_state).result()\n",
    "statevector = result.get_statevector(Gaussian_state).to_dict()"
   ]
  },
  {
   "cell_type": "code",
   "execution_count": 159,
   "id": "cff5f785",
   "metadata": {},
   "outputs": [
    {
     "data": {
      "text/plain": [
       "{'000': (0.0014574473268800267+0j),\n",
       " '001': (0.031121876272437073+0j),\n",
       " '010': (0.23954165236093947+0j),\n",
       " '011': (0.6645668525052716+0j),\n",
       " '100': (0.6645668525052716+0j),\n",
       " '101': (0.23954165236093938+0j),\n",
       " '110': (0.031121876272437073+0j),\n",
       " '111': (0.0014574473268800267+0j)}"
      ]
     },
     "execution_count": 159,
     "metadata": {},
     "output_type": "execute_result"
    }
   ],
   "source": [
    "statevector"
   ]
  },
  {
   "cell_type": "code",
   "execution_count": 164,
   "id": "81a98a50",
   "metadata": {},
   "outputs": [],
   "source": [
    "myout = np.zeros(nL*2**nQ)\n",
    "for mysite in range(nL):\n",
    "    for i in range(2**nQ):\n",
    "        for mystate in statevector:\n",
    "            if (mystate[nQ*mysite:nQ*(mysite+1)]==bin(i)[2:].zfill(nQ)):\n",
    "                myout[mysite*2**nQ+i]+=abs(statevector[mystate])\n",
    "                pass\n",
    "            pass\n",
    "        pass\n",
    "    pass"
   ]
  },
  {
   "cell_type": "code",
   "execution_count": 166,
   "id": "7d5e1d44",
   "metadata": {},
   "outputs": [
    {
     "data": {
      "text/plain": [
       "[<matplotlib.lines.Line2D at 0x7fc682d85f00>]"
      ]
     },
     "execution_count": 166,
     "metadata": {},
     "output_type": "execute_result"
    },
    {
     "data": {
      "image/png": "[encoded data removed]",
      "text/plain": [
       "<Figure size 432x288 with 1 Axes>"
      ]
     },
     "metadata": {
      "needs_background": "light"
     },
     "output_type": "display_data"
    }
   ],
   "source": [
    "plt.plot(myout)"
   ]
  },
  {
   "cell_type": "code",
   "execution_count": null,
   "id": "3aeb318b",
   "metadata": {},
   "outputs": [],
   "source": []
  }
 ],
 "metadata": {
  "kernelspec": {
   "display_name": "Python 3 (ipykernel)",
   "language": "python",
   "name": "python3"
  },
  "language_info": {
   "codemirror_mode": {
    "name": "ipython",
    "version": 3
   },
   "file_extension": ".py",
   "mimetype": "text/x-python",
   "name": "python",
   "nbconvert_exporter": "python",
   "pygments_lexer": "ipython3",
   "version": "3.11.3"
  }
 },
 "nbformat": 4,
 "nbformat_minor": 5
}
