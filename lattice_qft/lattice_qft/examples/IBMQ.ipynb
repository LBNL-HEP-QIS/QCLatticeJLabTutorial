{
 "cells": [
  {
   "cell_type": "code",
   "execution_count": 62,
   "id": "7b59ec1c",
   "metadata": {},
   "outputs": [
    {
     "name": "stdout",
     "output_type": "stream",
     "text": [
      "['/Users/bpnachman/Desktop/dl/lattice_qft/lattice_qft/examples', '/Users/bpnachman/opt/anaconda3/envs/Tutorial/lib/python311.zip', '/Users/bpnachman/opt/anaconda3/envs/Tutorial/lib/python3.11', '/Users/bpnachman/opt/anaconda3/envs/Tutorial/lib/python3.11/lib-dynload', '', '/Users/bpnachman/opt/anaconda3/envs/Tutorial/lib/python3.11/site-packages', '/Users/bpnachman/Desktop/dl/lattice_qft', '/Users/bpnachman/Desktop/dl/lattice_qft', '/Users/bpnachman/Desktop/dl/lattice_qft', '/Users/bpnachman/Desktop/dl/lattice_qft']\n"
     ]
    }
   ],
   "source": [
    "# Basic initialization\n",
    "%matplotlib inline\n",
    "import math\n",
    "import numpy as np\n",
    "from scipy.linalg import cholesky\n",
    "import matplotlib.gridspec as gridspec\n",
    "import matplotlib.pyplot as plt\n",
    "\n",
    "import qiskit\n",
    "from qiskit import Aer, execute\n",
    "from qiskit import QuantumCircuit, QuantumRegister, ClassicalRegister\n",
    "from qiskit.compiler import transpile\n",
    "import sys\n",
    "import os\n",
    "\n",
    "sys.path.append(\"/Users/bpnachman/Desktop/dl/lattice_qft\")\n",
    "print(sys.path)\n",
    "\n",
    "from lattice_qft.core import lattice as lattice_cf\n",
    "#from lattice_qft.core import settings\n",
    "from lattice_qft.Scalar_Field_Theory import basic_operator_implementations as basic_op_cf\n",
    "from lattice_qft.Scalar_Field_Theory import lattice_sft\n",
    "\n",
    "import itertools"
   ]
  },
  {
   "cell_type": "code",
   "execution_count": 9,
   "id": "cff11d80",
   "metadata": {},
   "outputs": [],
   "source": [
    "# Define the lattice to be used\n",
    "nQ = 2\n",
    "dim = 1\n",
    "num_ancilla = 1\n",
    "dx = 1\n",
    "nL = 3\n",
    "QC_lattice = lattice_sft.sft_lattice(dim, nL, dx, nQ, num_ancilla)"
   ]
  },
  {
   "cell_type": "code",
   "execution_count": 4,
   "id": "59045f93",
   "metadata": {},
   "outputs": [],
   "source": [
    "from qiskit import IBMQ"
   ]
  },
  {
   "cell_type": "code",
   "execution_count": 6,
   "id": "154c9c4e",
   "metadata": {},
   "outputs": [
    {
     "name": "stderr",
     "output_type": "stream",
     "text": [
      "ibmqfactory.load_account:WARNING:2023-06-22 00:19:12,068: Credentials are already in use. The existing account in the session will be replaced.\n"
     ]
    },
    {
     "name": "stdout",
     "output_type": "stream",
     "text": [
      "[<AccountProvider for IBMQ(hub='ibm-q', group='open', project='main')>]\n"
     ]
    }
   ],
   "source": [
    "IBMQ.load_account() # Load account from disk\n",
    "print(IBMQ.providers())    # List all available providers\n",
    "provider = IBMQ.get_provider(group='open')"
   ]
  },
  {
   "cell_type": "code",
   "execution_count": 7,
   "id": "a91bfabb",
   "metadata": {},
   "outputs": [
    {
     "name": "stdout",
     "output_type": "stream",
     "text": [
      "[<IBMQSimulator('ibmq_qasm_simulator') from IBMQ(hub='ibm-q', group='open', project='main')>, <IBMQBackend('ibmq_lima') from IBMQ(hub='ibm-q', group='open', project='main')>, <IBMQBackend('ibmq_belem') from IBMQ(hub='ibm-q', group='open', project='main')>, <IBMQBackend('ibmq_quito') from IBMQ(hub='ibm-q', group='open', project='main')>, <IBMQSimulator('simulator_statevector') from IBMQ(hub='ibm-q', group='open', project='main')>, <IBMQSimulator('simulator_mps') from IBMQ(hub='ibm-q', group='open', project='main')>, <IBMQSimulator('simulator_extended_stabilizer') from IBMQ(hub='ibm-q', group='open', project='main')>, <IBMQSimulator('simulator_stabilizer') from IBMQ(hub='ibm-q', group='open', project='main')>, <IBMQBackend('ibmq_jakarta') from IBMQ(hub='ibm-q', group='open', project='main')>, <IBMQBackend('ibmq_manila') from IBMQ(hub='ibm-q', group='open', project='main')>, <IBMQBackend('ibm_lagos') from IBMQ(hub='ibm-q', group='open', project='main')>, <IBMQBackend('ibm_nairobi') from IBMQ(hub='ibm-q', group='open', project='main')>, <IBMQBackend('ibm_perth') from IBMQ(hub='ibm-q', group='open', project='main')>]\n"
     ]
    }
   ],
   "source": [
    "print(provider.backends())"
   ]
  },
  {
   "cell_type": "code",
   "execution_count": 42,
   "id": "a253541e",
   "metadata": {},
   "outputs": [
    {
     "name": "stdout",
     "output_type": "stream",
     "text": [
      "ibmq_qasm_simulator 137\n",
      "simulator_statevector 137\n",
      "simulator_mps 137\n",
      "simulator_extended_stabilizer 137\n",
      "simulator_stabilizer 137\n",
      "ibmq_jakarta 137\n",
      "ibm_lagos 137\n",
      "ibm_nairobi 137\n",
      "ibm_perth 137\n"
     ]
    }
   ],
   "source": [
    "QC_nL = 3 # Number of lattice sites\n",
    "QC_dx = 1 # Lattice spacing, usually called a in the lattice literature\n",
    "QC_nQ = 2 # Number of qubits per lattice site\n",
    "QC_dim = 1\n",
    "QC_num_ancilla = 1\n",
    "\n",
    "for myback in provider.backends():\n",
    "    \n",
    "    if myback.configuration().n_qubits < 6:\n",
    "        continue\n",
    "    \n",
    "    QC_lattice = lattice_cf.Lattice(QC_dim, QC_nL, QC_dx, QC_nQ, QC_num_ancilla)\n",
    "    cr = ClassicalRegister(QC_nL*QC_nQ)\n",
    "\n",
    "    #Ground state\n",
    "    qc_ground = QuantumCircuit(lattice.get_q_register())\n",
    "    QC_state_prep = lattice.ground_state(qc_ground, lattice.get_q_register())\n",
    "    QC_state_prep.measure_all()\n",
    "\n",
    "    mapped_circuit = transpile(QC_state_prep, backend=backend)\n",
    "    \n",
    "    if 'cx' in mapped_circuit.count_ops():\n",
    "        print(myback,mapped_circuit.count_ops()['cx'])"
   ]
  },
  {
   "cell_type": "code",
   "execution_count": 39,
   "id": "3573b37a",
   "metadata": {},
   "outputs": [],
   "source": [
    "backend = provider.get_backend('ibm_perth')\n",
    "\n",
    "QC_nL = 3 # Number of lattice sites\n",
    "QC_dx = 1 # Lattice spacing, usually called a in the lattice literature\n",
    "QC_nQ = 2 # Number of qubits per lattice site\n",
    "QC_dim = 1\n",
    "QC_num_ancilla = 1\n",
    "\n",
    "QC_lattice = lattice_cf.Lattice(QC_dim, QC_nL, QC_dx, QC_nQ, QC_num_ancilla)\n",
    "cr = ClassicalRegister(QC_nL*QC_nQ)\n",
    "\n",
    "#Ground state\n",
    "qc_ground = QuantumCircuit(lattice.get_q_register())\n",
    "QC_state_prep = lattice.ground_state(qc_ground, lattice.get_q_register())\n",
    "QC_state_prep.measure_all()\n",
    "\n",
    "mapped_circuit = transpile(QC_state_prep, backend=backend)"
   ]
  },
  {
   "cell_type": "code",
   "execution_count": 43,
   "id": "bb3e9de7",
   "metadata": {},
   "outputs": [],
   "source": [
    "#mapped_circuit.draw()"
   ]
  },
  {
   "cell_type": "code",
   "execution_count": 44,
   "id": "57db9de9",
   "metadata": {},
   "outputs": [
    {
     "name": "stdout",
     "output_type": "stream",
     "text": [
      "64d1d047a784488fad6ed600df8d57ae-1687419545301205\n"
     ]
    }
   ],
   "source": [
    "from qiskit.providers.ibmq.managed import IBMQJobManager\n",
    "job_manager = IBMQJobManager()\n",
    "job_set = job_manager.run([mapped_circuit], backend=backend, name='JLabQCTutorial', shots=8192)\n",
    "print(job_set.job_set_id())"
   ]
  },
  {
   "cell_type": "code",
   "execution_count": 51,
   "id": "fcf508b6",
   "metadata": {},
   "outputs": [
    {
     "data": {
      "text/plain": [
       "'Job set name: JLabQCTutorial\\n          ID: 64d1d047a784488fad6ed600df8d57ae-1687419545301205\\n        tags: []\\nSummary report:\\n       Total jobs: 1\\n  Successful jobs: 1\\n      Failed jobs: 0\\n   Cancelled jobs: 0\\n     Running jobs: 0\\n     Pending jobs: 0\\n\\nDetail report:\\n  experiments: 0-0\\n    job index: 0\\n    job ID: ci9vl79g5luj4cj9rj90\\n    name: None\\n    status: job has successfully run'"
      ]
     },
     "execution_count": 51,
     "metadata": {},
     "output_type": "execute_result"
    }
   ],
   "source": [
    "job_set.report()"
   ]
  },
  {
   "cell_type": "code",
   "execution_count": 53,
   "id": "2fef4a28",
   "metadata": {},
   "outputs": [],
   "source": [
    "results = job_set.results()"
   ]
  },
  {
   "cell_type": "code",
   "execution_count": 59,
   "id": "46af8b8c",
   "metadata": {},
   "outputs": [],
   "source": [
    "def qubit_vals(mycounts,nq_persite,nsites):\n",
    "    #mycounts = result.get_counts()\n",
    "    \n",
    "    myout = np.zeros(nsites*2**nq_persite)\n",
    "    for mysite in range(nsites):\n",
    "        for i in range(2**nq_persite):\n",
    "            for mystate in mycounts:\n",
    "                if (mystate[nq_persite*mysite:nq_persite*(mysite+1)]==bin(i)[2:].zfill(nq_persite)):\n",
    "                    myout[mysite*2**nq_persite+i]+=mycounts[mystate]\n",
    "                    pass\n",
    "                pass\n",
    "            pass\n",
    "        pass\n",
    "    return myout"
   ]
  },
  {
   "cell_type": "code",
   "execution_count": 66,
   "id": "725ee802",
   "metadata": {},
   "outputs": [],
   "source": [
    "backend2 = provider.get_backend('ibmq_qasm_simulator')\n",
    "\n",
    "#Ground state\n",
    "qc_ground2 = QuantumCircuit(lattice.get_q_register())\n",
    "QC_state_prep2 = lattice.ground_state(qc_ground2, lattice.get_q_register())\n",
    "QC_state_prep2.measure_all()\n",
    "\n",
    "mapped_circuit2 = transpile(QC_state_prep2, backend=backend2)"
   ]
  },
  {
   "cell_type": "code",
   "execution_count": 68,
   "id": "1524c844",
   "metadata": {},
   "outputs": [],
   "source": [
    "job_sim = execute(mapped_circuit2, backend=backend2, shots=8192)\n",
    "results_sim = job_sim.result()"
   ]
  },
  {
   "cell_type": "code",
   "execution_count": 64,
   "id": "20f14eb8",
   "metadata": {},
   "outputs": [
    {
     "data": {
      "text/plain": [
       "[<matplotlib.lines.Line2D at 0x138d4ac10>]"
      ]
     },
     "execution_count": 64,
     "metadata": {},
     "output_type": "execute_result"
    },
    {
     "data": {
      "image/png": "[encoded data removed]",
      "text/plain": [
       "<Figure size 640x480 with 1 Axes>"
      ]
     },
     "metadata": {},
     "output_type": "display_data"
    }
   ],
   "source": [
    "plt.plot(qubit_vals(results.get_counts(0),2,3))"
   ]
  },
  {
   "cell_type": "code",
   "execution_count": 65,
   "id": "834a8ec5",
   "metadata": {},
   "outputs": [
    {
     "data": {
      "text/plain": [
       "<qiskit.circuit.quantumcircuit.QuantumCircuit at 0x137d80a50>"
      ]
     },
     "execution_count": 65,
     "metadata": {},
     "output_type": "execute_result"
    }
   ],
   "source": [
    "mapped_circuit"
   ]
  },
  {
   "cell_type": "code",
   "execution_count": null,
   "id": "0e59f879",
   "metadata": {},
   "outputs": [],
   "source": []
  }
 ],
 "metadata": {
  "kernelspec": {
   "display_name": "Python 3 (ipykernel)",
   "language": "python",
   "name": "python3"
  },
  "language_info": {
   "codemirror_mode": {
    "name": "ipython",
    "version": 3
   },
   "file_extension": ".py",
   "mimetype": "text/x-python",
   "name": "python",
   "nbconvert_exporter": "python",
   "pygments_lexer": "ipython3",
   "version": "3.11.3"
  }
 },
 "nbformat": 4,
 "nbformat_minor": 5
}
